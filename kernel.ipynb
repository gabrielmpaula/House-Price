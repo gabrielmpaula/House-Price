{
  "cells": [
    {
      "metadata": {
        "_cell_guid": "79c7e3d0-c299-4dcb-8224-4455121ee9b0",
        "_uuid": "d629ff2d2480ee46fbb7e2d37f6b5fab8052498a",
        "trusted": true
      },
      "cell_type": "code",
      "source": "import numpy as np\nimport pandas as pd\nfrom scipy import stats\n\nimport seaborn as sns\nimport matplotlib.pyplot as plt\n\nfrom sklearn.preprocessing import LabelEncoder\nfrom sklearn.metrics import mean_absolute_error\n\nfrom sklearn.model_selection import train_test_split\nfrom sklearn.model_selection import GridSearchCV\n\nfrom sklearn.linear_model import LinearRegression\nfrom sklearn.linear_model import Lasso\nfrom sklearn.linear_model import Ridge\n\nfrom keras.callbacks import ModelCheckpoint\nfrom xgboost import XGBRegressor\n\nimport os\nprint(os.listdir(\"../input\"))\n\n%matplotlib inline",
      "execution_count": null,
      "outputs": []
    },
    {
      "metadata": {
        "trusted": true,
        "_uuid": "a4e3c7c90f1e5fb059c0ef94af1dae5dcc66f7e2",
        "collapsed": true
      },
      "cell_type": "code",
      "source": "train = pd.read_csv(\"../input/train.csv\", index_col = 'Id')\nbe_predict = pd.read_csv(\"../input/test.csv\", index_col = 'Id')\nbe_predict_id = be_predict.index.values.tolist()",
      "execution_count": null,
      "outputs": []
    },
    {
      "metadata": {
        "trusted": true,
        "_uuid": "079d146141337e5b8c912c4dcbeeea3a8d7e9c14"
      },
      "cell_type": "code",
      "source": "#display dataset information\ntrain.info()\nbe_predict.info()",
      "execution_count": null,
      "outputs": []
    },
    {
      "metadata": {
        "trusted": true,
        "_uuid": "7f623de02c78bb4cb22a36120fef8326ee415fde"
      },
      "cell_type": "code",
      "source": "train.describe(include=['O'])",
      "execution_count": null,
      "outputs": []
    },
    {
      "metadata": {
        "trusted": true,
        "_uuid": "8aa520e4f21d405e7725f7a80fe3d21f7f026ea7"
      },
      "cell_type": "code",
      "source": "be_predict.describe(include=['O'])",
      "execution_count": null,
      "outputs": []
    },
    {
      "metadata": {
        "trusted": true,
        "_uuid": "f0c25fb421989a39c7c3c1c56753768553fc9ecf"
      },
      "cell_type": "code",
      "source": "plt.figure(1);\nsns.distplot(train.SalePrice, kde=False, fit=stats.norm)\nplt.figure(2);\nsns.distplot(np.log(train.SalePrice), kde=False, fit=stats.norm)",
      "execution_count": null,
      "outputs": []
    },
    {
      "metadata": {
        "trusted": true,
        "_uuid": "f1a13ab9e9defe91e87929be71d163e47d67c31d",
        "collapsed": true
      },
      "cell_type": "code",
      "source": "#Spliting Data into different dtypes\n#categorical = train.select_dtypes(include = ['object'])\n#numerical = train.select_dtypes(include = ['int64','float64'])",
      "execution_count": null,
      "outputs": []
    },
    {
      "metadata": {
        "trusted": true,
        "_uuid": "b6b21e472493bf8cc5f1d17b8aba1ea9409b78ec",
        "collapsed": true
      },
      "cell_type": "code",
      "source": "#f = pd.melt(train, value_vars=numerical)\n#g = sns.FacetGrid(f, col=\"variable\",  col_wrap=2, sharex=False, sharey=False)\n#g = g.map(sns.distplot, \"value\")",
      "execution_count": null,
      "outputs": []
    },
    {
      "metadata": {
        "trusted": true,
        "_uuid": "700ab909bff0ebcff8f00850689998315e370550"
      },
      "cell_type": "code",
      "source": "#Correlation Matrix & HeatMap\ncorr_matrix = train.corr()\nsns.heatmap(corr_matrix, vmax=.8, square=True); #HeatMap",
      "execution_count": null,
      "outputs": []
    },
    {
      "metadata": {
        "trusted": true,
        "_uuid": "f710d6c805a1d6d301eb0be2d8e01405bd7dff32"
      },
      "cell_type": "code",
      "source": "#Top 10 Heat Map\nk = 15 #number of variables for heatmap\ncols = corr_matrix.nlargest(k, 'SalePrice')['SalePrice'].index\ncm = np.corrcoef(train[cols].values.T)\nsns.set(font_scale=1.25)\nhm = sns.heatmap(cm, cbar=True, annot=True, square=True, fmt='.2f', annot_kws={'size': 8}, yticklabels=cols.values, xticklabels=cols.values)\nplt.show()",
      "execution_count": null,
      "outputs": []
    },
    {
      "metadata": {
        "trusted": true,
        "_uuid": "4c68b4334426566b334cc9dc2917b5774ca82347"
      },
      "cell_type": "code",
      "source": "#With higher correlations against SalePrice, we must understand the behavior for each variable\nsns.boxplot(x=train.OverallQual, y=train.SalePrice) #OverallQual, discret\n#Removing Outliers not necessary",
      "execution_count": null,
      "outputs": []
    },
    {
      "metadata": {
        "trusted": true,
        "_uuid": "d664e63bd678d0b5e341a8a36eeca52f13370e2f"
      },
      "cell_type": "code",
      "source": "#GrLivArea, continuos\nsns.jointplot(x=train['GrLivArea'], y=train['SalePrice'], kind='reg') #GrLivArea, continuos\n#There is 2 outliers in our plot and we could remove it to get a higher pearson correlation\n#Removing outliers",
      "execution_count": null,
      "outputs": []
    },
    {
      "metadata": {
        "_uuid": "48388b560e49c7830233be318eae1166cfde8131"
      },
      "cell_type": "markdown",
      "source": "There are 2 outliers in our plot and we could remove it to get a higher pearson correlation"
    },
    {
      "metadata": {
        "trusted": true,
        "_uuid": "7a83cc52a38c92e2264ca11a02e2c9060adff330"
      },
      "cell_type": "code",
      "source": "train = train.drop(train[(train['GrLivArea']>4000) & (train['SalePrice']<300000)].index).reset_index(drop=True)\nsns.jointplot(x=train['GrLivArea'], y=train['SalePrice'], kind='reg') #0,02 higher in pearson correlation",
      "execution_count": null,
      "outputs": []
    },
    {
      "metadata": {
        "trusted": true,
        "_uuid": "12eda0c3ab4861d55e19a6bfc56901e4669dcb2e"
      },
      "cell_type": "code",
      "source": "#GarageCars, discret\nsns.boxplot(x=train.GarageCars, y=train.SalePrice) #GarageCars, discret\n# We see some houses with lower price and 4 garagecars, it does not make sense at all. We must count how many houses with 4 cars and remove as an outlier\nlen(train[train.GarageCars == 4]) #There are just 5 houses with 4 garagecars. Not relevant",
      "execution_count": null,
      "outputs": []
    },
    {
      "metadata": {
        "trusted": true,
        "_uuid": "759aeae0fa05444ea2981666905f2418758151cf"
      },
      "cell_type": "code",
      "source": "#Removing outliers\ntrain = train.drop(train[(train['GarageCars']==4) & (train['SalePrice']<300000)].index).reset_index(drop=True)\nsns.boxplot(x=train.GarageCars, y=train.SalePrice) #GarageCars, discret",
      "execution_count": null,
      "outputs": []
    },
    {
      "metadata": {
        "trusted": true,
        "_uuid": "c339472b165b8854782a3798793ea32ad0fdf99f"
      },
      "cell_type": "code",
      "source": "#GarageArea, continuos\nsns.jointplot(x=train['GarageArea'], y=train['SalePrice'], kind='reg') #GrLivArea, continuos",
      "execution_count": null,
      "outputs": []
    },
    {
      "metadata": {
        "trusted": true,
        "_uuid": "6a256b9eb4cc91d291dea38378f8205489d2c186"
      },
      "cell_type": "code",
      "source": "#Removing outliers\ntrain = train.drop(train[(train['GarageArea']>1200) & (train['SalePrice']<300000)].index).reset_index(drop=True)\nsns.jointplot(x=train['GarageArea'], y=train['SalePrice'], kind='reg') #0,02 higher in pearson correlation",
      "execution_count": null,
      "outputs": []
    },
    {
      "metadata": {
        "trusted": true,
        "_uuid": "e0d42baa50f03a41efd4bbeb1f0fc5dec5b2cef3"
      },
      "cell_type": "code",
      "source": "#TotalBsmtSF, continuos\nsns.jointplot(x=train['TotalBsmtSF'], y=train['SalePrice'], kind='reg') #TotalBsmtSF, continuos",
      "execution_count": null,
      "outputs": []
    },
    {
      "metadata": {
        "trusted": true,
        "_uuid": "22ada6fe69a2617b2d9fb9f5d2a8f1c5b473d4df"
      },
      "cell_type": "code",
      "source": "#1stFlrSF, continuos\n\nsns.jointplot(x=train['1stFlrSF'], y=train['SalePrice'], kind='reg') #1stFlrSF, continuos\n",
      "execution_count": null,
      "outputs": []
    },
    {
      "metadata": {
        "trusted": true,
        "_uuid": "7a617b7f2a45e915467b42feb54e55832eeb4fe2"
      },
      "cell_type": "code",
      "source": "#FullBath, discret\n\nsns.boxplot(x=train.FullBath, y=train.SalePrice) #FullBath, discret",
      "execution_count": null,
      "outputs": []
    },
    {
      "metadata": {
        "trusted": true,
        "_uuid": "6b927d4d76679a45b4f55f818d4aae94b40a44f2"
      },
      "cell_type": "code",
      "source": "#TotRmsAbvGrd, discret\n\nsns.boxplot(x=train.TotRmsAbvGrd, y=train.SalePrice) #TotRmsAbvGrd, discret\nlen(train[train.TotRmsAbvGrd == 14]) #There is just 1 houses with 14 rooms. Not relevant",
      "execution_count": null,
      "outputs": []
    },
    {
      "metadata": {
        "trusted": true,
        "_uuid": "de3c825278c0e1cf9bd08fb1fc7a81bcee237cc5"
      },
      "cell_type": "code",
      "source": "#Removing Outlier\ntrain = train.drop(train[(train['TotRmsAbvGrd']==14)].index).reset_index(drop=True)\nsns.boxplot(x=train.TotRmsAbvGrd, y=train.SalePrice) #TotRmsAbvGrd, discret",
      "execution_count": null,
      "outputs": []
    },
    {
      "metadata": {
        "trusted": true,
        "_uuid": "8d354907fc62cb5991cb8bd5e43b63bd58b858b8"
      },
      "cell_type": "code",
      "source": "#New Correlation Matrix\n\ncorr_matrix2 = train.corr()\ncols2 = corr_matrix2.nlargest(k, 'SalePrice')['SalePrice'].index\ncm = np.corrcoef(train[cols2].values.T)\nsns.set(font_scale=1.25)\nhm = sns.heatmap(cm, cbar=True, annot=True, square=True, fmt='.2f', annot_kws={'size': 10}, yticklabels=cols.values, xticklabels=cols.values)\nplt.show()\n\ncorr_saleprice2 = corr_matrix2.iloc[:-1, -1:].sort_values(by = 'SalePrice',ascending = False)",
      "execution_count": null,
      "outputs": []
    },
    {
      "metadata": {
        "trusted": true,
        "_uuid": "5e89cd42fce39f3db2e5bf031101b09df951bda9"
      },
      "cell_type": "code",
      "source": "#Combine Datasets\n\ncombine= train.append(be_predict, ignore_index = True)\n\n#LotFrontage by Neighborhood median\nsns.distplot(combine['LotFrontage'].dropna())\ncombine['LotFrontage'] = combine.groupby('Neighborhood')['LotFrontage'].transform(lambda x: x.fillna(x.median()))\n#GarageYrBlt <> YearBuilt\ncombine['GarageYrBlt'].fillna(combine['YearBuilt'], inplace = True)\n",
      "execution_count": null,
      "outputs": []
    },
    {
      "metadata": {
        "trusted": true,
        "_uuid": "73b8988da4d4b3281c295c18f04d4fb6983270bb",
        "collapsed": true
      },
      "cell_type": "code",
      "source": "#Change NA to \"None\"\ncombine.update(combine[[\"Alley\",\"Functional\",'MasVnrType','PavedDrive','CentralAir',\"BsmtQual\",\"BsmtCond\",\"BsmtExposure\",\"BsmtFinType1\",\"BsmtFinType2\",\"FireplaceQu\",\"GarageFinish\",\"GarageCond\",\"GarageQual\",\"GarageType\",\"PoolQC\",\"Fence\",\"MiscFeature\"]].fillna(\"None\"))",
      "execution_count": null,
      "outputs": []
    },
    {
      "metadata": {
        "trusted": true,
        "_uuid": "58bc259471bb5754f1641e18430436e46680d982",
        "collapsed": true
      },
      "cell_type": "code",
      "source": "#Encoding Categorical Treatment\n\n#Label Encoding\n\nlb_make = LabelEncoder()\n\ncombine ['MSSubClass'] = combine ['MSSubClass'].apply(str)\n\ncombine[\"Street\"] = lb_make.fit_transform(combine[\"Street\"]) #Street\ncombine['Alley'] = combine['Alley'].map({\"None\": 0, \"Pave\": 2, \"Grvl\": 1}) #Alley\ncombine['LotShape'] = combine['LotShape'].map({\"IR3\": 1, \"IR2\": 2, \"IR1\": 3, \"Reg\": 4}) #LotShape\ncombine['LandSlope'] = combine['LandSlope'].map({\"Sev\": 1, \"Mod\": 2, \"Gtl\": 3}) #LandSlope\ncombine['ExterQual'] = combine['ExterQual'].map({\"Po\": 1, \"Fa\": 2, \"TA\": 3, \"Gd\": 4, \"Ex\": 5}) #ExterQual\ncombine['ExterCond'] = combine['ExterCond'].map({\"Po\": 1, \"Fa\": 2, \"TA\": 3, \"Gd\": 4, \"Ex\": 5}) #ExterCond\ncombine['BsmtQual'] = combine['BsmtQual'].map({\"None\": 0,\"Po\": 1, \"Fa\": 2, \"TA\": 3, \"Gd\": 4, \"Ex\": 5}) #BsmtQual\ncombine['BsmtCond'] = combine['BsmtCond'].map({\"None\": 0,\"Po\": 1, \"Fa\": 2, \"TA\": 3, \"Gd\": 4, \"Ex\": 5}) #BsmtCond\ncombine['FireplaceQu'] = combine['FireplaceQu'].map({\"None\": 0,\"Po\": 1, \"Fa\": 2, \"TA\": 3, \"Gd\": 4, \"Ex\": 5}) #FireplaceQu\ncombine['BsmtExposure'] = combine['BsmtExposure'].map({\"None\": 0,\"No\": 1, \"Mn\": 2, \"Av\": 3, \"Gd\": 4}) #BsmtExposure\ncombine['BsmtFinType1'] = combine['BsmtFinType1'].map({\"None\": 0,\"Unf\": 1, \"LwQ\": 2, \"Rec\": 3, \"BLQ\": 4, \"ALQ\": 5, \"GLQ\": 6}) #BsmtFinType1\ncombine['BsmtFinType2'] = combine['BsmtFinType2'].map({\"None\": 0,\"Unf\": 1, \"LwQ\": 2, \"Rec\": 3, \"BLQ\": 4, \"ALQ\": 5, \"GLQ\": 6}) #BsmtFinType2\ncombine['HeatingQC'] = combine['HeatingQC'].map({\"Po\": 1, \"Fa\": 2, \"TA\": 3, \"Gd\": 4, \"Ex\": 5}) #HeatingQC\ncombine['KitchenQual'] = combine['KitchenQual'].map({\"Po\": 1, \"Fa\": 2, \"TA\": 3, \"Gd\": 4, \"Ex\": 5}) #KitchenQual\ncombine['GarageFinish'] = combine['GarageFinish'].map({\"None\": 0, \"Unf\": 1, \"RFn\": 2, \"Fin\": 3}) #GarageFinish\ncombine['GarageCond'] = combine['GarageCond'].map({\"None\": 0,\"Po\": 1, \"Fa\": 2, \"TA\": 3, \"Gd\": 4, \"Ex\": 5}) #GarageCond\ncombine['GarageQual'] = combine['GarageQual'].map({\"None\": 0,\"Po\": 1, \"Fa\": 2, \"TA\": 3, \"Gd\": 4, \"Ex\": 5}) #GarageQual\ncombine['PoolQC'] = combine['PoolQC'].map({\"None\": 0, \"Fa\": 2, \"TA\": 3, \"Gd\": 4, \"Ex\": 5}) #PoolQC\ncombine['Fence'] = combine['Fence'].map({\"None\": 0, \"MnWw\": 2, \"GdWo\": 3, \"MnPrv\": 4, \"GdPrv\": 5}) #Fence\ncombine['Functional'] = combine['Functional'].map({\"None\": 0, \"Sal\": 1, \"Sev\": 2, \"Maj2\": 3, \"Maj1\": 4, \"Mod\": 5, \"Min2\": 6, \"Min1\": 7,\"Typ\": 8}) #Functional\ncombine['PavedDrive'] = combine['PavedDrive'].map({\"N\": 0, \"P\": 1, \"Y\": 2}) #PavedDrive\ncombine['CentralAir'] = combine['CentralAir'].map({\"N\": 0, \"Y\": 1}) #CentralAir\ncombine[\"MSSubClass\"] = combine[\"MSSubClass\"].map({'180':1, '30':2, '45':2, '190':3, '50':3, '90':3, '85':4, '40':4, '160':4,'70':5, '20':5, '75':5, '80':5, '150':5, '120': 6, '60':6})",
      "execution_count": null,
      "outputs": []
    },
    {
      "metadata": {
        "_uuid": "b00b116ea2a7b02f8c95c8142e9df5182a2585ce"
      },
      "cell_type": "markdown",
      "source": "Fixing Numerical Features with categorical characteristics"
    },
    {
      "metadata": {
        "trusted": true,
        "collapsed": true,
        "_uuid": "52b833f809cc9378aa1b8025cc3e2d4f7d313260"
      },
      "cell_type": "code",
      "source": "#combine ['MSSubClass'] = combine ['MSSubClass'].apply(str)\ncombine ['YrSold'] = combine ['YrSold'].apply(str)\ncombine ['MoSold'] = combine['MoSold'].apply(str)",
      "execution_count": null,
      "outputs": []
    },
    {
      "metadata": {
        "_uuid": "8b6f55bb0592b2830cb8c7c4827eef639314a8b5"
      },
      "cell_type": "markdown",
      "source": "Fill NaN"
    },
    {
      "metadata": {
        "trusted": true,
        "_uuid": "df93d7976a677d8c2d8b7f8bd5082bd2597d93d1"
      },
      "cell_type": "code",
      "source": "combine.columns[combine.isna().any()].tolist()\n\ncombine.Electrical.fillna(combine['Electrical'].mode()[0], inplace = True) #Electrical\ncombine.MasVnrType.fillna(combine['MasVnrType'].mode()[0], inplace = True) #MasVnrType\ncombine.MasVnrArea.fillna(0,inplace = True) #MasVnrArea\nfor col in ('BsmtFinSF1', 'BsmtFinSF2', 'BsmtUnfSF','TotalBsmtSF', 'BsmtFullBath', 'BsmtHalfBath'):\n    combine[col] = combine[col].fillna(0)\n  \ncombine.Exterior1st.fillna(combine['Exterior1st'].mode()[0], inplace = True) #Exterior1st\ncombine.Exterior2nd.fillna(combine['Exterior2nd'].mode()[0], inplace = True) #Exterior2nd\ncombine.GarageArea.fillna(0, inplace = True) #GarageArea\ncombine.GarageCars.fillna(0, inplace = True) #GarageCars\ncombine.KitchenQual.fillna(combine['KitchenQual'].mode()[0], inplace = True) #KitchenQual\ncombine['MSZoning'] = combine.groupby('Neighborhood')['MSZoning'].apply(lambda x:x.fillna(x.mode()[0])) #Fill MSZoning for mode in Neighborhood\ncombine.SaleType.fillna(combine.SaleType.mode()[0],inplace = True)\ncombine = combine.drop(['Utilities'], axis=1) #all data is AllPub which means that there is no difference\n\ncombine.columns[combine.isna().any()].tolist()\n\ncombine.columns[combine.isna().any()].tolist()\ntrain = combine[:train.shape[0]]\nbe_predict2 = combine[train.shape[0]:]\ntrain.columns[train.isna().any()].tolist()\n\nbe_predict2.columns[be_predict2.isna().any()].tolist()",
      "execution_count": null,
      "outputs": []
    },
    {
      "metadata": {
        "trusted": true,
        "_uuid": "215a73fdbcf25da1f21be02c5fce1b1496885f19",
        "collapsed": true
      },
      "cell_type": "code",
      "source": "#Fixing \"skewed\" features\n#train[\"SalePriceLog\"] = np.log1p(train[\"SalePrice\"])\n#sns.distplot(train['SalePriceLog'], fit=stats.norm)\n\n#Numeric Features\ncombine_saleprice = combine.SalePrice\ncombine = combine.drop(columns=\"SalePrice\")\n\nnumeric_feats = combine.dtypes[combine.dtypes != \"object\"].index\nskewed_feats = combine[numeric_feats].apply(lambda x: stats.skew(x.dropna())).sort_values(ascending=False)\nskewness = pd.DataFrame({'Skewed Features' :skewed_feats})\nskewness.head()\nskewness = skewness[abs(skewness) > 0.75]\n\nfrom scipy.special import boxcox1p\nskewed_features = skewness.index\nlam = 0.15\nfor feat in skewed_features:\n    combine[feat] = boxcox1p(combine[feat], lam)\n    combine[feat] += 1\n\ncombine[\"SalePrice\"] = combine_saleprice",
      "execution_count": null,
      "outputs": []
    },
    {
      "metadata": {
        "trusted": true,
        "_uuid": "f59cce05e3c777a70461e914ca2faed6e6a1cd59"
      },
      "cell_type": "code",
      "source": "#Get Dummies\n\ncombine_d = pd.get_dummies(combine)\ncombine_d.shape",
      "execution_count": null,
      "outputs": []
    },
    {
      "metadata": {
        "trusted": true,
        "_uuid": "c30aacb326e449a4c554afdfe95355777d7ae614",
        "collapsed": true
      },
      "cell_type": "code",
      "source": "cols_to_drop = [\"GarageCars\",\"TotalBsmtSF\",\"TotRmsAbvGrd\",\"GarageYrBlt\",'Condition2_PosA',\n  'RoofMatl_Membran',\n  'RoofMatl_Metal',\n  'Condition2_RRAe',\n  'Condition2_PosN',\n  'Exterior1st_CBlock',\n  'MiscFeature_TenC',\n  'Exterior1st_ImStucc',\n  'Exterior1st_Stone',\n  'MiscFeature_Gar2',\n  'RoofStyle_Shed',\n  'Condition2_RRNn',\n  'SaleCondition_AdjLand',\n  'Condition2_RRAn',\n  'Heating_Floor',\n  'SaleType_CWD',\n  'SaleType_Con',\n  'Street',\n  'Electrical_FuseP',\n  'Electrical_Mix',\n  'GarageType_2Types',\n  'Heating_Grav',\n  'Exterior2nd_CBlock',\n  'Condition1_RRNe',\n  'MiscFeature_Othr',\n  'RoofMatl_WdShake']\n\ncombine_d = combine_d.drop(columns = cols_to_drop)",
      "execution_count": null,
      "outputs": []
    },
    {
      "metadata": {
        "trusted": true,
        "_uuid": "c78e68f040970b66bb85105ace1c8553e3f2057a"
      },
      "cell_type": "code",
      "source": "train2 = combine_d[:train.shape[0]]\nbe_predict_d = combine_d[train.shape[0]:]\n\ntrain2.columns[train2.isna().any()].tolist()\ncombine.columns[combine.isna().any()].tolist()",
      "execution_count": null,
      "outputs": []
    },
    {
      "metadata": {
        "_uuid": "f64dafbd49e3409b597e75fc6befecfe70387339"
      },
      "cell_type": "markdown",
      "source": "Split TrainSet into Train and Test"
    },
    {
      "metadata": {
        "trusted": true,
        "_uuid": "aa56feeb3f2326a8cf464e0231912907290918f6"
      },
      "cell_type": "code",
      "source": "from sklearn.model_selection import train_test_split\n\nX = train2.loc[:,train2.columns != 'SalePrice'] \ny = train2['SalePrice']\ny_log = np.log(y)\n\nX_train, X_test, y_train, y_test = train_test_split(X, y_log, test_size=0.2, random_state=0)\n\nprint (X_train.shape, y_train.shape)\nprint (X_test.shape, y_test.shape)",
      "execution_count": null,
      "outputs": []
    },
    {
      "metadata": {
        "trusted": true,
        "_uuid": "1b271717dbe79802cfbbc3b1511fad32c9e55151"
      },
      "cell_type": "code",
      "source": "# Linear Regression\n\nfrom sklearn.linear_model import LinearRegression\nregressor = LinearRegression()\nregressor.fit(X_train, y_train)\nLinearRegression(copy_X=True, fit_intercept=True, n_jobs=1, normalize=False)\ny_pred = regressor.predict(X_test)\nprint('Liner Regression R squared Train: %.4f' % regressor.score(X_train, y_train))\n\nprint('Liner Regression R squared Test: %.4f' % regressor.score(X_test, y_test))",
      "execution_count": null,
      "outputs": []
    },
    {
      "metadata": {
        "trusted": true,
        "_uuid": "8b85bec201f19cacd18b68209066617ed9e3e6b0"
      },
      "cell_type": "code",
      "source": "#Ridge Regression\n\nfrom sklearn.linear_model import Ridge\nfor alpha in (0.0001, 0.001, 0.01, 0.1, 1, 3, 5, 8, 10, 100, 1000):\n    ridge_model = Ridge(alpha = alpha)\n    ridge_model.fit(X_train, y_train)\n    y_pred = ridge_model.predict(X_test)\n    print ('Alpha =', alpha)\n    print('Ridge Regression R squared Train:' '%.4f' % ridge_model.score(X_train, y_train))\n    print('Ridge Regression R squared Test:' '%.4f' % ridge_model.score(X_test, y_test))\n\n#ridge_model = Ridge(alpha = 10)\n#ridge_model.fit(X_train, y_train)  \n#ridge_prediction = ridge_model.predict(be_predict_d.loc[:,train2.columns != 'SalePrice'])\n#final = pd.DataFrame(list(zip(be_predict_id,ridge_prediction)), columns=['Id','SalePrice'])\n#final.to_csv('submission.csv',index=False)",
      "execution_count": null,
      "outputs": []
    },
    {
      "metadata": {
        "trusted": true,
        "_uuid": "3cf74be06980e70433a89865e0b72265ff64b4b5"
      },
      "cell_type": "code",
      "source": "#Lasso Regression\n\nfrom sklearn.linear_model import Lasso\nfor alpha in (0.0001, 0.001, 0.1, 0.01, 1, 10, 25, 50, 100, 500, 1000):\n    lasso_model = Lasso(alpha = alpha, max_iter = 5000)\n    lasso_model.fit(X_train, y_train)\n    lasso_y = lasso_model.predict(X_test)\n    print ('Alpha =', alpha)\n    print('Lasso Regression R squared Train: %.4f' % lasso_model.score(X_train, y_train))\n    print('Lasso Regression R squared Test: %.4f' % lasso_model.score(X_test, y_test))\n    #print ('Number of features:' .format(np.sum(regressor.coef_!=0)))",
      "execution_count": null,
      "outputs": []
    },
    {
      "metadata": {
        "trusted": true,
        "_uuid": "93229d1209d0eace17f458fa6b961c6f56fdf1cf"
      },
      "cell_type": "code",
      "source": "lasso = Lasso()\nlasso_params = {'alpha':[0.0001, 0.001, 0.01, 0.1, 1, 10, 100]}\nlasso_grid = GridSearchCV(lasso, lasso_params, cv = 5, verbose = 10, scoring = 'neg_mean_absolute_error');\nlasso_grid.fit(X_train, y_train);\nlasso_score = lasso_grid.cv_results_\nprint(lasso_score)",
      "execution_count": null,
      "outputs": []
    },
    {
      "metadata": {
        "trusted": true,
        "_uuid": "1d6aca1d5182ec3162b48551b54828c6eb3dd36b"
      },
      "cell_type": "code",
      "source": "print(lasso_grid.best_params_)\nprint(lasso_score['mean_test_score'])\nprint(lasso_score['params'])",
      "execution_count": null,
      "outputs": []
    },
    {
      "metadata": {
        "trusted": true,
        "_uuid": "b6235ffcd72c0cd4a0b8e59f6c73571085d94749"
      },
      "cell_type": "code",
      "source": "ridge = Ridge()\nridge_params = {'alpha': [1, 10, 100, 1000]}\nridge_grid = GridSearchCV(ridge, ridge_params, cv = 5, verbose = 10, scoring = 'neg_mean_absolute_error')\nhistory_ridge = ridge_grid.fit(X_train, y_train)\nridge_score = ridge_grid.cv_results_",
      "execution_count": null,
      "outputs": []
    },
    {
      "metadata": {
        "trusted": true,
        "_uuid": "4a823ff062b07ed927cb810f2ac0125863e1f485"
      },
      "cell_type": "code",
      "source": "print(ridge_grid.best_params_)\nprint(ridge_score['mean_test_score'])\nprint(ridge_score['params'])",
      "execution_count": null,
      "outputs": []
    },
    {
      "metadata": {
        "trusted": true,
        "_uuid": "49da7b73753bd1f7b64c2fdf750adf89bf903163"
      },
      "cell_type": "code",
      "source": "'''\nX_train.head(5)\n\ncols_to_drop = [\"GarageCars\",\"TotalBsmtSF\",\"TotRmsAbvGrd\",\"GarageYrBlt\",'Condition2_PosA',\n  'RoofMatl_Membran',\n  'RoofMatl_Metal',\n  'Condition2_RRAe',\n  'Condition2_PosN',\n  'Exterior1st_CBlock',\n  'MiscFeature_TenC',\n  'Exterior1st_ImStucc',\n  'Exterior1st_Stone',\n  'MiscFeature_Gar2',\n  'RoofStyle_Shed',\n  'Condition2_RRNn',\n  'SaleCondition_AdjLand',\n  'Condition2_RRAn',\n  'Heating_Floor',\n  'SaleType_CWD',\n  'SaleType_Con',\n  'Street',\n  'Electrical_FuseP',\n  'Electrical_Mix',\n  'GarageType_2Types',\n  'Heating_Grav',\n  'Exterior2nd_CBlock',\n  'Condition1_RRNe',\n  'MiscFeature_Othr',\n  'RoofMatl_WdShake']\n\nX_train_drop = X_train.drop(columns = cols_to_drop)\nX_test_drop = X_test.drop(columns = cols_to_drop)\nbe_predict_d_drop = be_predict_d.drop(columns = cols_to_drop)\n'''",
      "execution_count": null,
      "outputs": []
    },
    {
      "metadata": {
        "trusted": true,
        "_uuid": "abb8019a6f86ee0d46b32d17d91ecf2e41b1cc76"
      },
      "cell_type": "code",
      "source": "xgboosting = XGBRegressor(n_estimators=5000, \\\n                          learning_rate=0.05, \\\n                          gamma=2, \\\n                          max_depth=12, \\\n                          min_child_weight=1, \\\n                          colsample_bytree=0.5, \\\n                          subsample=0.8, \\\n                          reg_alpha=1, \\\n                          objective='reg:linear', \\\n                          base_score = 7.76)\n\nxgboosting.fit(X_train, y_train)\nxgb_test_y = xgboosting.predict(X_test_drop)\nxgboosting.score(X_test_drop, y_test)\nmean_absolute_error(xgb_test_y, y_test)",
      "execution_count": null,
      "outputs": []
    },
    {
      "metadata": {
        "trusted": true,
        "_uuid": "418e0f2287f600e32352ac74dfbf7c6df9b5da45",
        "collapsed": true
      },
      "cell_type": "code",
      "source": "xgb_prediction = xgboosting.predict(be_predict_d.drop(columns=\"SalePrice\"))\nfinal = pd.DataFrame(list(zip(be_predict_id, xgb_prediction)), columns=['Id','SalePrice'])\nfinal.to_csv('submission.csv',index=False)\nfinal.head(10)",
      "execution_count": null,
      "outputs": []
    },
    {
      "metadata": {
        "trusted": true,
        "_uuid": "29fdf76aced8e5a812abffea39ffdf53ee077314",
        "collapsed": true
      },
      "cell_type": "code",
      "source": "X_train_drop.shape",
      "execution_count": null,
      "outputs": []
    },
    {
      "metadata": {
        "trusted": true,
        "_uuid": "0d1c9a6ebcec7c47610c6d4afa21166930352640"
      },
      "cell_type": "code",
      "source": "# Importing the Keras libraries and packages\nimport keras\nfrom keras.models import Sequential\nfrom keras.layers import Dense\nfrom keras.layers import PReLU\nfrom keras.layers import BatchNormalization\nfrom keras.layers import Dropout\n\ncheckpoint = ModelCheckpoint('weights.best.hdf5', monitor='val_acc', save_best_only=True, mode='max')\ncallbacks_list = [checkpoint]\n\nmodel = Sequential()\n\nmodel.add(Dense(1000, activation='relu', input_dim = X_train.shape[1], kernel_initializer = 'he_normal'))\n#model.add(PReLU())\nmodel.add(BatchNormalization())\nmodel.add(Dropout(0.4))\n\nmodel.add(Dense(800, activation='relu', kernel_initializer = 'he_normal'))\n#model.add(PReLU())\nmodel.add(BatchNormalization())\nmodel.add(Dropout(0.2))\n\nmodel.add(Dense(800, activation='relu', kernel_initializer = 'he_normal'))\n#model.add(PReLU())\nmodel.add(BatchNormalization())\nmodel.add(Dropout(0.0))\n\n#model.add(Dense(300, activation = 'relu', init = 'he_normal'))\n#model.add(PReLU())\n#model.add(BatchNormalization())\n#model.add(Dropout(0.1))\n\n#model.add(Dense(50, activation = 'relu', init = 'he_normal'))\n#model.add(PReLU())\n#model.add(BatchNormalization())\n#model.add(Dropout(0.0))\n\nmodel.add(Dense(1, kernel_initializer = 'he_normal'))\n\n#optimizer = keras.optimizers.SGD(lr=0.01, momentum=0.0, decay=0.0, nesterov=False)\n#optimizer = keras.optimizers.Adagrad(lr=0.01, epsilon=None, decay=0.0)\noptimizer = keras.optimizers.Adadelta(lr=0.5, rho=0.95, epsilon=None, decay=0.0)\n#optimizer = keras.optimizers.Adam(lr=0.001, beta_1=0.9, beta_2=0.999, epsilon=None, decay=0.0, amsgrad=False)\n#optimizer = keras.optimizers.Adamax(lr=0.002, beta_1=0.9, beta_2=0.999, epsilon=None, decay=0.0)\n#optimizer = keras.optimizers.Nadam(lr=0.002, beta_1=0.9, beta_2=0.999, epsilon=None, schedule_decay=0.004)\n\nmodel.compile(loss = 'mae', optimizer = optimizer)\n\nmodel.fit(X_train, y_train, validation_data=(X_test, y_test), epochs=150, batch_size=50, verbose=0, callbacks=callbacks_list)",
      "execution_count": null,
      "outputs": []
    },
    {
      "metadata": {
        "trusted": true,
        "_uuid": "04d4bdea576f748cc38d91e093eaea78b8835852",
        "collapsed": true
      },
      "cell_type": "code",
      "source": "# Importing the Keras libraries and packages\nimport keras\nfrom keras.models import Sequential\nfrom keras.layers import Dense\nfrom keras.layers import PReLU\nfrom keras.layers import BatchNormalization\nfrom keras.layers import Dropout\n\nmodel = Sequential()\n\nmodel.add(Dense(1000, activation='relu', input_dim = X_train.shape[1], kernel_initializer = 'he_normal'))\n#model.add(PReLU())\nmodel.add(BatchNormalization())\nmodel.add(Dropout(0.4))\n\nmodel.add(Dense(800, activation='relu', kernel_initializer = 'he_normal'))\n#model.add(PReLU())\nmodel.add(BatchNormalization())\nmodel.add(Dropout(0.2))\n\nmodel.add(Dense(800, activation='relu', kernel_initializer = 'he_normal'))\n#model.add(PReLU())\nmodel.add(BatchNormalization())\nmodel.add(Dropout(0.0))\n\n#model.add(Dense(300, activation = 'relu', init = 'he_normal'))\n#model.add(PReLU())\n#model.add(BatchNormalization())\n#model.add(Dropout(0.1))\n\n#model.add(Dense(50, activation = 'relu', init = 'he_normal'))\n#model.add(PReLU())\n#model.add(BatchNormalization())\n#model.add(Dropout(0.0))\n\nmodel.add(Dense(1, kernel_initializer = 'he_normal'))\n\n#optimizer = keras.optimizers.SGD(lr=0.01, momentum=0.0, decay=0.0, nesterov=False)\n#optimizer = keras.optimizers.Adagrad(lr=0.01, epsilon=None, decay=0.0)\noptimizer = keras.optimizers.Adadelta(lr=0.5, rho=0.95, epsilon=None, decay=0.0)\n#optimizer = keras.optimizers.Adam(lr=0.001, beta_1=0.9, beta_2=0.999, epsilon=None, decay=0.0, amsgrad=False)\n#optimizer = keras.optimizers.Adamax(lr=0.002, beta_1=0.9, beta_2=0.999, epsilon=None, decay=0.0)\n#optimizer = keras.optimizers.Nadam(lr=0.002, beta_1=0.9, beta_2=0.999, epsilon=None, schedule_decay=0.004)\n\nmodel.compile(loss = 'mae', optimizer = optimizer)\n\nmodel.fit(X, y, epochs=150, batch_size=50, verbose=1)",
      "execution_count": null,
      "outputs": []
    },
    {
      "metadata": {
        "trusted": true,
        "_uuid": "96ea7f97fa3c8ab6452891747831b65762ffc3ff",
        "collapsed": true
      },
      "cell_type": "code",
      "source": "nn_prediction = model.predict(be_predict_d.drop(columns=\"SalePrice\"))[:,0]\nfinal = pd.DataFrame(list(zip(be_predict_id, nn_prediction)), columns=['Id','SalePrice'])\nfinal.to_csv('submission.csv',index=False)",
      "execution_count": null,
      "outputs": []
    }
  ],
  "metadata": {
    "kernelspec": {
      "display_name": "Python 3",
      "language": "python",
      "name": "python3"
    },
    "language_info": {
      "name": "python",
      "version": "3.6.6",
      "mimetype": "text/x-python",
      "codemirror_mode": {
        "name": "ipython",
        "version": 3
      },
      "pygments_lexer": "ipython3",
      "nbconvert_exporter": "python",
      "file_extension": ".py"
    }
  },
  "nbformat": 4,
  "nbformat_minor": 1
}