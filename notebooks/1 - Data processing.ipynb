{
 "cells": [
  {
   "cell_type": "markdown",
   "metadata": {},
   "source": [
    "## Importing packages"
   ]
  },
  {
   "cell_type": "code",
   "execution_count": 1,
   "metadata": {},
   "outputs": [],
   "source": [
    "import pandas as pd\n",
    "import numpy as np\n",
    "import seaborn as sns\n",
    "import os\n",
    "\n",
    "from sklearn.pipeline import Pipeline\n",
    "from sklearn.compose import ColumnTransformer\n",
    "from sklearn.impute import SimpleImputer\n",
    "from sklearn.preprocessing import FunctionTransformer\n",
    "from sklearn.preprocessing import OneHotEncoder, StandardScaler\n",
    "from sklearn.model_selection import train_test_split\n",
    "from sklearn.metrics import mean_squared_error\n",
    "\n",
    "from sklearn.ensemble import RandomForestRegressor\n",
    "import xgboost as xgb"
   ]
  },
  {
   "cell_type": "markdown",
   "metadata": {},
   "source": [
    "##  Metric definition"
   ]
  },
  {
   "cell_type": "code",
   "execution_count": 2,
   "metadata": {},
   "outputs": [],
   "source": [
    "def rmse(predictions, reals):\n",
    "    error = np.sqrt(mean_squared_error(predictions, reals))\n",
    "    return error"
   ]
  },
  {
   "cell_type": "markdown",
   "metadata": {},
   "source": [
    "## Loading data"
   ]
  },
  {
   "cell_type": "code",
   "execution_count": 3,
   "metadata": {},
   "outputs": [],
   "source": [
    "DATA_PATH = '../data/'\n",
    "train_data = pd.read_csv(DATA_PATH + 'train.csv')"
   ]
  },
  {
   "cell_type": "code",
   "execution_count": 4,
   "metadata": {},
   "outputs": [],
   "source": [
    "target = np.log(train_data['SalePrice'])\n",
    "exclude_columns = ['SalePrice','Id','PoolQC','MiscFeature','Fence','Alley']\n",
    "train_data = train_data.drop(exclude_columns, axis=1)"
   ]
  },
  {
   "cell_type": "code",
   "execution_count": 5,
   "metadata": {},
   "outputs": [],
   "source": [
    "numerical_features = train_data.select_dtypes(['int64','float64']).columns\n",
    "categorical_features = train_data.select_dtypes(['object']).columns"
   ]
  },
  {
   "cell_type": "markdown",
   "metadata": {},
   "source": [
    "## Pipeline creation"
   ]
  },
  {
   "cell_type": "markdown",
   "metadata": {},
   "source": [
    "Creating the pipelines for numerical and categorical variables.\n",
    "For numerical features, the strategy for missing values is to impute the median of that features\n",
    "For categorical, the strategy is to imput the most frequent value of that category and then to apply one hot encoding to the features. If a category is present only in the test set, then it should be ignored."
   ]
  },
  {
   "cell_type": "code",
   "execution_count": 6,
   "metadata": {},
   "outputs": [],
   "source": [
    "numerical_transformer = Pipeline(steps=[\n",
    "    ('imputer', SimpleImputer(strategy='median')),\n",
    "    ('log', FunctionTransformer(np.log1p, validate=True))\n",
    "])\n",
    "\n",
    "categorical_transformer = Pipeline(steps=[\n",
    "    ('imputer', SimpleImputer(strategy='constant', fill_value='NA')),\n",
    "    ('onehot', OneHotEncoder(handle_unknown='ignore'))\n",
    "])"
   ]
  },
  {
   "cell_type": "code",
   "execution_count": 7,
   "metadata": {},
   "outputs": [],
   "source": [
    "preprocessor = ColumnTransformer(\n",
    "    transformers=[\n",
    "        ('numerical', numerical_transformer, numerical_features),\n",
    "        ('categorical', categorical_transformer, categorical_features)\n",
    "    ])"
   ]
  },
  {
   "cell_type": "code",
   "execution_count": 8,
   "metadata": {},
   "outputs": [],
   "source": [
    "rf_model = RandomForestRegressor(n_estimators=100)"
   ]
  },
  {
   "cell_type": "code",
   "execution_count": 9,
   "metadata": {},
   "outputs": [],
   "source": [
    "rf_pipeline = Pipeline(steps=[\n",
    "    ('preprocessing', preprocessor),\n",
    "    ('model', rf_model)\n",
    "])"
   ]
  },
  {
   "cell_type": "markdown",
   "metadata": {},
   "source": [
    "## Creating a test set for evaluation"
   ]
  },
  {
   "cell_type": "code",
   "execution_count": 10,
   "metadata": {},
   "outputs": [],
   "source": [
    "X_train, X_test, y_train, y_test = train_test_split(train_data, target, test_size=0.33, shuffle=True, random_state=0)"
   ]
  },
  {
   "cell_type": "code",
   "execution_count": 11,
   "metadata": {},
   "outputs": [
    {
     "name": "stdout",
     "output_type": "stream",
     "text": [
      "RMSE on the training set 0.05506999845145948\n",
      "RMSE on the testing set 0.13257448656554563\n"
     ]
    }
   ],
   "source": [
    "rf_pipeline.fit(X_train, y_train)\n",
    "train_predictions = rf_pipeline.predict(X_train)\n",
    "train_error = rmse(train_predictions, y_train)\n",
    "test_predictions = rf_pipeline.predict(X_test)\n",
    "test_error = rmse(test_predictions, y_test)\n",
    "\n",
    "print('RMSE on the training set {}'.format(train_error))\n",
    "print('RMSE on the testing set {}'.format(rmse(test_predictions, y_test)))"
   ]
  },
  {
   "cell_type": "markdown",
   "metadata": {},
   "source": [
    "## Experimenting with XGBoost"
   ]
  },
  {
   "cell_type": "code",
   "execution_count": 12,
   "metadata": {},
   "outputs": [],
   "source": [
    "X_train = preprocessor.fit_transform(X_train)\n",
    "X_test = preprocessor.transform(X_test)"
   ]
  },
  {
   "cell_type": "code",
   "execution_count": 53,
   "metadata": {},
   "outputs": [],
   "source": [
    "d_train = xgb.DMatrix(X_train, label=np.array(y_train).reshape(-1))"
   ]
  },
  {
   "cell_type": "code",
   "execution_count": 122,
   "metadata": {},
   "outputs": [],
   "source": [
    "xgbm = xgb.XGBRegressor(max_depth=3,\n",
    "                        learning_rate=0.01,\n",
    "                        n_estimators=5000,\n",
    "                        subsample=0.5,\n",
    "                        colsample_bytree=0.5,\n",
    "                        objective='reg:squarederror',\n",
    "                        n_jobs=-1)"
   ]
  },
  {
   "cell_type": "code",
   "execution_count": 123,
   "metadata": {},
   "outputs": [
    {
     "name": "stdout",
     "output_type": "stream",
     "text": [
      "[0]\ttrain-rmse:11.4181+0.00528713\ttest-rmse:11.418+0.0476852\n",
      "[200]\ttrain-rmse:1.5637+0.000988714\ttest-rmse:1.56402+0.0386249\n",
      "[400]\ttrain-rmse:0.252671+0.000990898\ttest-rmse:0.266444+0.0217045\n",
      "[600]\ttrain-rmse:0.108279+0.00147489\ttest-rmse:0.143585+0.0169133\n",
      "[800]\ttrain-rmse:0.0906773+0.00149908\ttest-rmse:0.133711+0.0178225\n",
      "[1000]\ttrain-rmse:0.0826122+0.00144531\ttest-rmse:0.130762+0.0184208\n",
      "[1200]\ttrain-rmse:0.0764472+0.00134489\ttest-rmse:0.129319+0.0188328\n",
      "[1400]\ttrain-rmse:0.0712989+0.00122234\ttest-rmse:0.12844+0.0193539\n",
      "[1600]\ttrain-rmse:0.0668175+0.00121404\ttest-rmse:0.127648+0.0197561\n",
      "[1800]\ttrain-rmse:0.0628387+0.00116555\ttest-rmse:0.127333+0.0197329\n",
      "[2000]\ttrain-rmse:0.0593611+0.00109491\ttest-rmse:0.127016+0.0198\n",
      "[2200]\ttrain-rmse:0.056186+0.00104709\ttest-rmse:0.12664+0.0198073\n",
      "[2400]\ttrain-rmse:0.053323+0.00100908\ttest-rmse:0.126605+0.0197935\n",
      "[2600]\ttrain-rmse:0.0507126+0.000971153\ttest-rmse:0.126399+0.0197713\n",
      "\n",
      "RSME:\n",
      "train-rmse-mean    0.050957\n",
      "train-rmse-std     0.000684\n",
      "test-rmse-mean     0.126366\n",
      "test-rmse-std      0.016776\n",
      "dtype: float64\n"
     ]
    }
   ],
   "source": [
    "cv_result = xgb.cv(xgbm.get_xgb_params(),\n",
    "                   d_train,\n",
    "                   num_boost_round=10000,\n",
    "                   nfold=10,\n",
    "                   early_stopping_rounds=100,\n",
    "                   shuffle=True,\n",
    "                   verbose_eval=200,\n",
    "                   seed=0)\n",
    "\n",
    "print('\\nRSME:\\n{}'.format(cv_result.min()))"
   ]
  },
  {
   "cell_type": "code",
   "execution_count": 124,
   "metadata": {},
   "outputs": [
    {
     "name": "stdout",
     "output_type": "stream",
     "text": [
      "Best number of trees = 2582\n"
     ]
    },
    {
     "data": {
      "text/plain": [
       "XGBRegressor(base_score=0.5, booster='gbtree', colsample_bylevel=1,\n",
       "             colsample_bynode=1, colsample_bytree=0.5, gamma=0,\n",
       "             importance_type='gain', learning_rate=0.01, max_delta_step=0,\n",
       "             max_depth=3, min_child_weight=1, missing=None, n_estimators=2582,\n",
       "             n_jobs=-1, nthread=None, objective='reg:squarederror',\n",
       "             random_state=0, reg_alpha=0, reg_lambda=1, scale_pos_weight=1,\n",
       "             seed=None, silent=None, subsample=0.5, verbosity=1)"
      ]
     },
     "execution_count": 124,
     "metadata": {},
     "output_type": "execute_result"
    }
   ],
   "source": [
    "print('Best number of trees = {}'.format(cv_result.shape[0]))\n",
    "xgbm.set_params(n_estimators=cv_result.shape[0])"
   ]
  },
  {
   "cell_type": "markdown",
   "metadata": {},
   "source": [
    "## Training full model"
   ]
  },
  {
   "cell_type": "code",
   "execution_count": 125,
   "metadata": {},
   "outputs": [],
   "source": [
    "train_data = preprocessor.transform(train_data)\n",
    "target = np.array(target).reshape((-1, ))"
   ]
  },
  {
   "cell_type": "code",
   "execution_count": 126,
   "metadata": {},
   "outputs": [
    {
     "data": {
      "text/plain": [
       "XGBRegressor(base_score=0.5, booster='gbtree', colsample_bylevel=1,\n",
       "             colsample_bynode=1, colsample_bytree=0.5, gamma=0,\n",
       "             importance_type='gain', learning_rate=0.01, max_delta_step=0,\n",
       "             max_depth=3, min_child_weight=1, missing=None, n_estimators=2582,\n",
       "             n_jobs=-1, nthread=None, objective='reg:squarederror',\n",
       "             random_state=0, reg_alpha=0, reg_lambda=1, scale_pos_weight=1,\n",
       "             seed=None, silent=None, subsample=0.5, verbosity=1)"
      ]
     },
     "execution_count": 126,
     "metadata": {},
     "output_type": "execute_result"
    }
   ],
   "source": [
    "xgbm.fit(train_data, target)"
   ]
  },
  {
   "cell_type": "markdown",
   "metadata": {},
   "source": [
    "## Making submission"
   ]
  },
  {
   "cell_type": "code",
   "execution_count": 127,
   "metadata": {},
   "outputs": [],
   "source": [
    "test_data = pd.read_csv(DATA_PATH + 'test.csv')"
   ]
  },
  {
   "cell_type": "code",
   "execution_count": 128,
   "metadata": {},
   "outputs": [],
   "source": [
    "X_test = preprocessor.transform(test_data)\n",
    "test_prediction = np.exp(xgbm.predict(X_test))"
   ]
  },
  {
   "cell_type": "code",
   "execution_count": 129,
   "metadata": {},
   "outputs": [],
   "source": [
    "test_prediction = pd.Series(test_prediction, name='SalePrice')\n",
    "test_prediction = pd.concat([test_prediction, test_data['Id']], axis=1).set_index('Id')\n",
    "test_prediction.to_csv('../output/submission.csv')"
   ]
  }
 ],
 "metadata": {
  "kernelspec": {
   "display_name": "Python 3",
   "language": "python",
   "name": "python3"
  },
  "language_info": {
   "codemirror_mode": {
    "name": "ipython",
    "version": 3
   },
   "file_extension": ".py",
   "mimetype": "text/x-python",
   "name": "python",
   "nbconvert_exporter": "python",
   "pygments_lexer": "ipython3",
   "version": "3.6.8"
  }
 },
 "nbformat": 4,
 "nbformat_minor": 2
}
